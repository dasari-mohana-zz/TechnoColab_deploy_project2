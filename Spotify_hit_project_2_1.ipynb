{
 "cells": [
  {
   "cell_type": "markdown",
   "metadata": {},
   "source": [
    "# Dasari Mohan Krishna\n",
    "\n",
    "# The Spotify Hit Predictor - Project-2"
   ]
  },
  {
   "cell_type": "code",
   "execution_count": 1,
   "metadata": {},
   "outputs": [
    {
     "data": {
      "application/javascript": [
       "IPython.notebook.set_autosave_interval(10000)"
      ]
     },
     "metadata": {},
     "output_type": "display_data"
    },
    {
     "name": "stdout",
     "output_type": "stream",
     "text": [
      "Autosaving every 10 seconds\n"
     ]
    }
   ],
   "source": [
    "%autosave 10"
   ]
  },
  {
   "cell_type": "markdown",
   "metadata": {},
   "source": [
    "# Load Libraries"
   ]
  },
  {
   "cell_type": "markdown",
   "metadata": {},
   "source": [
    "****Importing required Libraries to built the model****"
   ]
  },
  {
   "cell_type": "code",
   "execution_count": 2,
   "metadata": {},
   "outputs": [],
   "source": [
    "import numpy as np #numerical computation\n",
    "from numpy import mean\n",
    "\n",
    "import pandas as pd #data wrangling\n",
    "import matplotlib.pyplot as plt #plotting package\n",
    "import seaborn as sns  #Visualization\n",
    "from sklearn import preprocessing\n",
    "#Next line helps with rendering plots\n",
    "%matplotlib inline\n",
    "import matplotlib as mpl #add'l plotting functionality\n",
    "mpl.rcParams['figure.dpi'] = 400 #high res figures"
   ]
  },
  {
   "cell_type": "markdown",
   "metadata": {},
   "source": [
    "# Load Dataset"
   ]
  },
  {
   "cell_type": "markdown",
   "metadata": {},
   "source": [
    "**Loading the datasets**"
   ]
  },
  {
   "cell_type": "code",
   "execution_count": 3,
   "metadata": {},
   "outputs": [],
   "source": [
    "df_00 = pd.read_csv('dataset-of-00s.csv',header=0,index_col=0)\n",
    "df_10 = pd.read_csv('dataset-of-10s.csv',header=0,index_col=0)\n",
    "df_60 = pd.read_csv('dataset-of-60s.csv',header=0,index_col=0)\n",
    "df_70 = pd.read_csv('dataset-of-70s.csv',header=0,index_col=0)\n",
    "df_80 = pd.read_csv('dataset-of-80s.csv',header=0,index_col=0)\n",
    "df_90 = pd.read_csv('dataset-of-90s.csv',header=0,index_col=0)"
   ]
  },
  {
   "cell_type": "markdown",
   "metadata": {},
   "source": [
    "**Concatinating the all datasets**"
   ]
  },
  {
   "cell_type": "code",
   "execution_count": 4,
   "metadata": {},
   "outputs": [],
   "source": [
    "df = pd.concat([df_00, df_10, df_60, df_70, df_80, df_90])"
   ]
  },
  {
   "cell_type": "code",
   "execution_count": 5,
   "metadata": {},
   "outputs": [
    {
     "data": {
      "text/html": [
       "<div>\n",
       "<style scoped>\n",
       "    .dataframe tbody tr th:only-of-type {\n",
       "        vertical-align: middle;\n",
       "    }\n",
       "\n",
       "    .dataframe tbody tr th {\n",
       "        vertical-align: top;\n",
       "    }\n",
       "\n",
       "    .dataframe thead th {\n",
       "        text-align: right;\n",
       "    }\n",
       "</style>\n",
       "<table border=\"1\" class=\"dataframe\">\n",
       "  <thead>\n",
       "    <tr style=\"text-align: right;\">\n",
       "      <th></th>\n",
       "      <th>artist</th>\n",
       "      <th>uri</th>\n",
       "      <th>danceability</th>\n",
       "      <th>energy</th>\n",
       "      <th>key</th>\n",
       "      <th>loudness</th>\n",
       "      <th>mode</th>\n",
       "      <th>speechiness</th>\n",
       "      <th>acousticness</th>\n",
       "      <th>instrumentalness</th>\n",
       "      <th>liveness</th>\n",
       "      <th>valence</th>\n",
       "      <th>tempo</th>\n",
       "      <th>duration_ms</th>\n",
       "      <th>time_signature</th>\n",
       "      <th>chorus_hit</th>\n",
       "      <th>sections</th>\n",
       "      <th>target</th>\n",
       "    </tr>\n",
       "    <tr>\n",
       "      <th>track</th>\n",
       "      <th></th>\n",
       "      <th></th>\n",
       "      <th></th>\n",
       "      <th></th>\n",
       "      <th></th>\n",
       "      <th></th>\n",
       "      <th></th>\n",
       "      <th></th>\n",
       "      <th></th>\n",
       "      <th></th>\n",
       "      <th></th>\n",
       "      <th></th>\n",
       "      <th></th>\n",
       "      <th></th>\n",
       "      <th></th>\n",
       "      <th></th>\n",
       "      <th></th>\n",
       "      <th></th>\n",
       "    </tr>\n",
       "  </thead>\n",
       "  <tbody>\n",
       "    <tr>\n",
       "      <td>Lucky Man</td>\n",
       "      <td>Montgomery Gentry</td>\n",
       "      <td>spotify:track:4GiXBCUF7H6YfNQsnBRIzl</td>\n",
       "      <td>0.578</td>\n",
       "      <td>0.471</td>\n",
       "      <td>4</td>\n",
       "      <td>-7.270</td>\n",
       "      <td>1</td>\n",
       "      <td>0.0289</td>\n",
       "      <td>0.368000</td>\n",
       "      <td>0.00000</td>\n",
       "      <td>0.159</td>\n",
       "      <td>0.532</td>\n",
       "      <td>133.061</td>\n",
       "      <td>196707</td>\n",
       "      <td>4</td>\n",
       "      <td>30.88059</td>\n",
       "      <td>13</td>\n",
       "      <td>1</td>\n",
       "    </tr>\n",
       "    <tr>\n",
       "      <td>On The Hotline</td>\n",
       "      <td>Pretty Ricky</td>\n",
       "      <td>spotify:track:1zyqZONW985Cs4osz9wlsu</td>\n",
       "      <td>0.704</td>\n",
       "      <td>0.854</td>\n",
       "      <td>10</td>\n",
       "      <td>-5.477</td>\n",
       "      <td>0</td>\n",
       "      <td>0.1830</td>\n",
       "      <td>0.018500</td>\n",
       "      <td>0.00000</td>\n",
       "      <td>0.148</td>\n",
       "      <td>0.688</td>\n",
       "      <td>92.988</td>\n",
       "      <td>242587</td>\n",
       "      <td>4</td>\n",
       "      <td>41.51106</td>\n",
       "      <td>10</td>\n",
       "      <td>1</td>\n",
       "    </tr>\n",
       "    <tr>\n",
       "      <td>Clouds Of Dementia</td>\n",
       "      <td>Candlemass</td>\n",
       "      <td>spotify:track:6cHZf7RbxXCKwEkgAZT4mY</td>\n",
       "      <td>0.162</td>\n",
       "      <td>0.836</td>\n",
       "      <td>9</td>\n",
       "      <td>-3.009</td>\n",
       "      <td>1</td>\n",
       "      <td>0.0473</td>\n",
       "      <td>0.000111</td>\n",
       "      <td>0.00457</td>\n",
       "      <td>0.174</td>\n",
       "      <td>0.300</td>\n",
       "      <td>86.964</td>\n",
       "      <td>338893</td>\n",
       "      <td>4</td>\n",
       "      <td>65.32887</td>\n",
       "      <td>13</td>\n",
       "      <td>0</td>\n",
       "    </tr>\n",
       "    <tr>\n",
       "      <td>Heavy Metal, Raise Hell!</td>\n",
       "      <td>Zwartketterij</td>\n",
       "      <td>spotify:track:2IjBPp2vMeX7LggzRN3iSX</td>\n",
       "      <td>0.188</td>\n",
       "      <td>0.994</td>\n",
       "      <td>4</td>\n",
       "      <td>-3.745</td>\n",
       "      <td>1</td>\n",
       "      <td>0.1660</td>\n",
       "      <td>0.000007</td>\n",
       "      <td>0.07840</td>\n",
       "      <td>0.192</td>\n",
       "      <td>0.333</td>\n",
       "      <td>148.440</td>\n",
       "      <td>255667</td>\n",
       "      <td>4</td>\n",
       "      <td>58.59528</td>\n",
       "      <td>9</td>\n",
       "      <td>0</td>\n",
       "    </tr>\n",
       "    <tr>\n",
       "      <td>I Got A Feelin'</td>\n",
       "      <td>Billy Currington</td>\n",
       "      <td>spotify:track:1tF370eYXUcWwkIvaq3IGz</td>\n",
       "      <td>0.630</td>\n",
       "      <td>0.764</td>\n",
       "      <td>2</td>\n",
       "      <td>-4.353</td>\n",
       "      <td>1</td>\n",
       "      <td>0.0275</td>\n",
       "      <td>0.363000</td>\n",
       "      <td>0.00000</td>\n",
       "      <td>0.125</td>\n",
       "      <td>0.631</td>\n",
       "      <td>112.098</td>\n",
       "      <td>193760</td>\n",
       "      <td>4</td>\n",
       "      <td>22.62384</td>\n",
       "      <td>10</td>\n",
       "      <td>1</td>\n",
       "    </tr>\n",
       "  </tbody>\n",
       "</table>\n",
       "</div>"
      ],
      "text/plain": [
       "                                     artist  \\\n",
       "track                                         \n",
       "Lucky Man                 Montgomery Gentry   \n",
       "On The Hotline                 Pretty Ricky   \n",
       "Clouds Of Dementia               Candlemass   \n",
       "Heavy Metal, Raise Hell!      Zwartketterij   \n",
       "I Got A Feelin'            Billy Currington   \n",
       "\n",
       "                                                           uri  danceability  \\\n",
       "track                                                                          \n",
       "Lucky Man                 spotify:track:4GiXBCUF7H6YfNQsnBRIzl         0.578   \n",
       "On The Hotline            spotify:track:1zyqZONW985Cs4osz9wlsu         0.704   \n",
       "Clouds Of Dementia        spotify:track:6cHZf7RbxXCKwEkgAZT4mY         0.162   \n",
       "Heavy Metal, Raise Hell!  spotify:track:2IjBPp2vMeX7LggzRN3iSX         0.188   \n",
       "I Got A Feelin'           spotify:track:1tF370eYXUcWwkIvaq3IGz         0.630   \n",
       "\n",
       "                          energy  key  loudness  mode  speechiness  \\\n",
       "track                                                                \n",
       "Lucky Man                  0.471    4    -7.270     1       0.0289   \n",
       "On The Hotline             0.854   10    -5.477     0       0.1830   \n",
       "Clouds Of Dementia         0.836    9    -3.009     1       0.0473   \n",
       "Heavy Metal, Raise Hell!   0.994    4    -3.745     1       0.1660   \n",
       "I Got A Feelin'            0.764    2    -4.353     1       0.0275   \n",
       "\n",
       "                          acousticness  instrumentalness  liveness  valence  \\\n",
       "track                                                                         \n",
       "Lucky Man                     0.368000           0.00000     0.159    0.532   \n",
       "On The Hotline                0.018500           0.00000     0.148    0.688   \n",
       "Clouds Of Dementia            0.000111           0.00457     0.174    0.300   \n",
       "Heavy Metal, Raise Hell!      0.000007           0.07840     0.192    0.333   \n",
       "I Got A Feelin'               0.363000           0.00000     0.125    0.631   \n",
       "\n",
       "                            tempo  duration_ms  time_signature  chorus_hit  \\\n",
       "track                                                                        \n",
       "Lucky Man                 133.061       196707               4    30.88059   \n",
       "On The Hotline             92.988       242587               4    41.51106   \n",
       "Clouds Of Dementia         86.964       338893               4    65.32887   \n",
       "Heavy Metal, Raise Hell!  148.440       255667               4    58.59528   \n",
       "I Got A Feelin'           112.098       193760               4    22.62384   \n",
       "\n",
       "                          sections  target  \n",
       "track                                       \n",
       "Lucky Man                       13       1  \n",
       "On The Hotline                  10       1  \n",
       "Clouds Of Dementia              13       0  \n",
       "Heavy Metal, Raise Hell!         9       0  \n",
       "I Got A Feelin'                 10       1  "
      ]
     },
     "execution_count": 5,
     "metadata": {},
     "output_type": "execute_result"
    }
   ],
   "source": [
    "df.head()"
   ]
  },
  {
   "cell_type": "markdown",
   "metadata": {},
   "source": [
    "# Exploring the dataset"
   ]
  },
  {
   "cell_type": "markdown",
   "metadata": {},
   "source": [
    "**To check if zeros are present in the dataset columns**"
   ]
  },
  {
   "cell_type": "code",
   "execution_count": 6,
   "metadata": {},
   "outputs": [],
   "source": [
    "df_zero_mask = df == 0"
   ]
  },
  {
   "cell_type": "code",
   "execution_count": 7,
   "metadata": {},
   "outputs": [
    {
     "data": {
      "text/plain": [
       "track\n",
       "Lucky Man                             False\n",
       "On The Hotline                        False\n",
       "Clouds Of Dementia                    False\n",
       "Heavy Metal, Raise Hell!              False\n",
       "I Got A Feelin'                       False\n",
       "                                      ...  \n",
       "(You're A) Go Nowhere                 False\n",
       "La Fiebre de Norma                    False\n",
       "Good Times                            False\n",
       "Inane                                 False\n",
       "You Can Make History (Young Again)    False\n",
       "Length: 41106, dtype: bool"
      ]
     },
     "execution_count": 7,
     "metadata": {},
     "output_type": "execute_result"
    }
   ],
   "source": [
    "feature_zero_mask = df_zero_mask.iloc[:,:].all(axis=1)\n",
    "feature_zero_mask"
   ]
  },
  {
   "cell_type": "code",
   "execution_count": 8,
   "metadata": {},
   "outputs": [
    {
     "data": {
      "text/plain": [
       "0"
      ]
     },
     "execution_count": 8,
     "metadata": {},
     "output_type": "execute_result"
    }
   ],
   "source": [
    "sum(feature_zero_mask)"
   ]
  },
  {
   "cell_type": "code",
   "execution_count": 9,
   "metadata": {},
   "outputs": [
    {
     "data": {
      "text/plain": [
       "(41106, 18)"
      ]
     },
     "execution_count": 9,
     "metadata": {},
     "output_type": "execute_result"
    }
   ],
   "source": [
    "df.shape"
   ]
  },
  {
   "cell_type": "code",
   "execution_count": 10,
   "metadata": {},
   "outputs": [
    {
     "data": {
      "text/html": [
       "<div>\n",
       "<style scoped>\n",
       "    .dataframe tbody tr th:only-of-type {\n",
       "        vertical-align: middle;\n",
       "    }\n",
       "\n",
       "    .dataframe tbody tr th {\n",
       "        vertical-align: top;\n",
       "    }\n",
       "\n",
       "    .dataframe thead th {\n",
       "        text-align: right;\n",
       "    }\n",
       "</style>\n",
       "<table border=\"1\" class=\"dataframe\">\n",
       "  <thead>\n",
       "    <tr style=\"text-align: right;\">\n",
       "      <th></th>\n",
       "      <th>danceability</th>\n",
       "      <th>energy</th>\n",
       "      <th>key</th>\n",
       "      <th>loudness</th>\n",
       "      <th>mode</th>\n",
       "      <th>speechiness</th>\n",
       "      <th>acousticness</th>\n",
       "      <th>instrumentalness</th>\n",
       "      <th>liveness</th>\n",
       "      <th>valence</th>\n",
       "      <th>tempo</th>\n",
       "      <th>duration_ms</th>\n",
       "      <th>time_signature</th>\n",
       "      <th>chorus_hit</th>\n",
       "      <th>sections</th>\n",
       "      <th>target</th>\n",
       "    </tr>\n",
       "  </thead>\n",
       "  <tbody>\n",
       "    <tr>\n",
       "      <td>count</td>\n",
       "      <td>41106.000000</td>\n",
       "      <td>41106.000000</td>\n",
       "      <td>41106.000000</td>\n",
       "      <td>41106.000000</td>\n",
       "      <td>41106.000000</td>\n",
       "      <td>41106.000000</td>\n",
       "      <td>41106.000000</td>\n",
       "      <td>41106.000000</td>\n",
       "      <td>41106.000000</td>\n",
       "      <td>41106.000000</td>\n",
       "      <td>41106.000000</td>\n",
       "      <td>4.110600e+04</td>\n",
       "      <td>41106.000000</td>\n",
       "      <td>41106.000000</td>\n",
       "      <td>41106.000000</td>\n",
       "      <td>41106.000000</td>\n",
       "    </tr>\n",
       "    <tr>\n",
       "      <td>mean</td>\n",
       "      <td>0.539695</td>\n",
       "      <td>0.579545</td>\n",
       "      <td>5.213594</td>\n",
       "      <td>-10.221525</td>\n",
       "      <td>0.693354</td>\n",
       "      <td>0.072960</td>\n",
       "      <td>0.364197</td>\n",
       "      <td>0.154416</td>\n",
       "      <td>0.201535</td>\n",
       "      <td>0.542440</td>\n",
       "      <td>119.338249</td>\n",
       "      <td>2.348776e+05</td>\n",
       "      <td>3.893689</td>\n",
       "      <td>40.106041</td>\n",
       "      <td>10.475673</td>\n",
       "      <td>0.500000</td>\n",
       "    </tr>\n",
       "    <tr>\n",
       "      <td>std</td>\n",
       "      <td>0.177821</td>\n",
       "      <td>0.252628</td>\n",
       "      <td>3.534977</td>\n",
       "      <td>5.311626</td>\n",
       "      <td>0.461107</td>\n",
       "      <td>0.086112</td>\n",
       "      <td>0.338913</td>\n",
       "      <td>0.303530</td>\n",
       "      <td>0.172959</td>\n",
       "      <td>0.267329</td>\n",
       "      <td>29.098845</td>\n",
       "      <td>1.189674e+05</td>\n",
       "      <td>0.423073</td>\n",
       "      <td>19.005515</td>\n",
       "      <td>4.871850</td>\n",
       "      <td>0.500006</td>\n",
       "    </tr>\n",
       "    <tr>\n",
       "      <td>min</td>\n",
       "      <td>0.000000</td>\n",
       "      <td>0.000251</td>\n",
       "      <td>0.000000</td>\n",
       "      <td>-49.253000</td>\n",
       "      <td>0.000000</td>\n",
       "      <td>0.000000</td>\n",
       "      <td>0.000000</td>\n",
       "      <td>0.000000</td>\n",
       "      <td>0.013000</td>\n",
       "      <td>0.000000</td>\n",
       "      <td>0.000000</td>\n",
       "      <td>1.516800e+04</td>\n",
       "      <td>0.000000</td>\n",
       "      <td>0.000000</td>\n",
       "      <td>0.000000</td>\n",
       "      <td>0.000000</td>\n",
       "    </tr>\n",
       "    <tr>\n",
       "      <td>25%</td>\n",
       "      <td>0.420000</td>\n",
       "      <td>0.396000</td>\n",
       "      <td>2.000000</td>\n",
       "      <td>-12.816000</td>\n",
       "      <td>0.000000</td>\n",
       "      <td>0.033700</td>\n",
       "      <td>0.039400</td>\n",
       "      <td>0.000000</td>\n",
       "      <td>0.094000</td>\n",
       "      <td>0.330000</td>\n",
       "      <td>97.397000</td>\n",
       "      <td>1.729278e+05</td>\n",
       "      <td>4.000000</td>\n",
       "      <td>27.599793</td>\n",
       "      <td>8.000000</td>\n",
       "      <td>0.000000</td>\n",
       "    </tr>\n",
       "    <tr>\n",
       "      <td>50%</td>\n",
       "      <td>0.552000</td>\n",
       "      <td>0.601000</td>\n",
       "      <td>5.000000</td>\n",
       "      <td>-9.257000</td>\n",
       "      <td>1.000000</td>\n",
       "      <td>0.043400</td>\n",
       "      <td>0.258000</td>\n",
       "      <td>0.000120</td>\n",
       "      <td>0.132000</td>\n",
       "      <td>0.558000</td>\n",
       "      <td>117.565000</td>\n",
       "      <td>2.179070e+05</td>\n",
       "      <td>4.000000</td>\n",
       "      <td>35.850795</td>\n",
       "      <td>10.000000</td>\n",
       "      <td>0.500000</td>\n",
       "    </tr>\n",
       "    <tr>\n",
       "      <td>75%</td>\n",
       "      <td>0.669000</td>\n",
       "      <td>0.787000</td>\n",
       "      <td>8.000000</td>\n",
       "      <td>-6.374250</td>\n",
       "      <td>1.000000</td>\n",
       "      <td>0.069800</td>\n",
       "      <td>0.676000</td>\n",
       "      <td>0.061250</td>\n",
       "      <td>0.261000</td>\n",
       "      <td>0.768000</td>\n",
       "      <td>136.494000</td>\n",
       "      <td>2.667730e+05</td>\n",
       "      <td>4.000000</td>\n",
       "      <td>47.625615</td>\n",
       "      <td>12.000000</td>\n",
       "      <td>1.000000</td>\n",
       "    </tr>\n",
       "    <tr>\n",
       "      <td>max</td>\n",
       "      <td>0.988000</td>\n",
       "      <td>1.000000</td>\n",
       "      <td>11.000000</td>\n",
       "      <td>3.744000</td>\n",
       "      <td>1.000000</td>\n",
       "      <td>0.960000</td>\n",
       "      <td>0.996000</td>\n",
       "      <td>1.000000</td>\n",
       "      <td>0.999000</td>\n",
       "      <td>0.996000</td>\n",
       "      <td>241.423000</td>\n",
       "      <td>4.170227e+06</td>\n",
       "      <td>5.000000</td>\n",
       "      <td>433.182000</td>\n",
       "      <td>169.000000</td>\n",
       "      <td>1.000000</td>\n",
       "    </tr>\n",
       "  </tbody>\n",
       "</table>\n",
       "</div>"
      ],
      "text/plain": [
       "       danceability        energy           key      loudness          mode  \\\n",
       "count  41106.000000  41106.000000  41106.000000  41106.000000  41106.000000   \n",
       "mean       0.539695      0.579545      5.213594    -10.221525      0.693354   \n",
       "std        0.177821      0.252628      3.534977      5.311626      0.461107   \n",
       "min        0.000000      0.000251      0.000000    -49.253000      0.000000   \n",
       "25%        0.420000      0.396000      2.000000    -12.816000      0.000000   \n",
       "50%        0.552000      0.601000      5.000000     -9.257000      1.000000   \n",
       "75%        0.669000      0.787000      8.000000     -6.374250      1.000000   \n",
       "max        0.988000      1.000000     11.000000      3.744000      1.000000   \n",
       "\n",
       "        speechiness  acousticness  instrumentalness      liveness  \\\n",
       "count  41106.000000  41106.000000      41106.000000  41106.000000   \n",
       "mean       0.072960      0.364197          0.154416      0.201535   \n",
       "std        0.086112      0.338913          0.303530      0.172959   \n",
       "min        0.000000      0.000000          0.000000      0.013000   \n",
       "25%        0.033700      0.039400          0.000000      0.094000   \n",
       "50%        0.043400      0.258000          0.000120      0.132000   \n",
       "75%        0.069800      0.676000          0.061250      0.261000   \n",
       "max        0.960000      0.996000          1.000000      0.999000   \n",
       "\n",
       "            valence         tempo   duration_ms  time_signature    chorus_hit  \\\n",
       "count  41106.000000  41106.000000  4.110600e+04    41106.000000  41106.000000   \n",
       "mean       0.542440    119.338249  2.348776e+05        3.893689     40.106041   \n",
       "std        0.267329     29.098845  1.189674e+05        0.423073     19.005515   \n",
       "min        0.000000      0.000000  1.516800e+04        0.000000      0.000000   \n",
       "25%        0.330000     97.397000  1.729278e+05        4.000000     27.599793   \n",
       "50%        0.558000    117.565000  2.179070e+05        4.000000     35.850795   \n",
       "75%        0.768000    136.494000  2.667730e+05        4.000000     47.625615   \n",
       "max        0.996000    241.423000  4.170227e+06        5.000000    433.182000   \n",
       "\n",
       "           sections        target  \n",
       "count  41106.000000  41106.000000  \n",
       "mean      10.475673      0.500000  \n",
       "std        4.871850      0.500006  \n",
       "min        0.000000      0.000000  \n",
       "25%        8.000000      0.000000  \n",
       "50%       10.000000      0.500000  \n",
       "75%       12.000000      1.000000  \n",
       "max      169.000000      1.000000  "
      ]
     },
     "execution_count": 10,
     "metadata": {},
     "output_type": "execute_result"
    }
   ],
   "source": [
    "df.describe()"
   ]
  },
  {
   "cell_type": "code",
   "execution_count": 11,
   "metadata": {},
   "outputs": [
    {
     "name": "stdout",
     "output_type": "stream",
     "text": [
      "<class 'pandas.core.frame.DataFrame'>\n",
      "Index: 41106 entries, Lucky Man to You Can Make History (Young Again)\n",
      "Data columns (total 18 columns):\n",
      "artist              41106 non-null object\n",
      "uri                 41106 non-null object\n",
      "danceability        41106 non-null float64\n",
      "energy              41106 non-null float64\n",
      "key                 41106 non-null int64\n",
      "loudness            41106 non-null float64\n",
      "mode                41106 non-null int64\n",
      "speechiness         41106 non-null float64\n",
      "acousticness        41106 non-null float64\n",
      "instrumentalness    41106 non-null float64\n",
      "liveness            41106 non-null float64\n",
      "valence             41106 non-null float64\n",
      "tempo               41106 non-null float64\n",
      "duration_ms         41106 non-null int64\n",
      "time_signature      41106 non-null int64\n",
      "chorus_hit          41106 non-null float64\n",
      "sections            41106 non-null int64\n",
      "target              41106 non-null int64\n",
      "dtypes: float64(10), int64(6), object(2)\n",
      "memory usage: 7.2+ MB\n"
     ]
    }
   ],
   "source": [
    "df.info()"
   ]
  },
  {
   "cell_type": "code",
   "execution_count": 12,
   "metadata": {},
   "outputs": [
    {
     "data": {
      "text/plain": [
       "artist              0.0\n",
       "uri                 0.0\n",
       "danceability        0.0\n",
       "energy              0.0\n",
       "key                 0.0\n",
       "loudness            0.0\n",
       "mode                0.0\n",
       "speechiness         0.0\n",
       "acousticness        0.0\n",
       "instrumentalness    0.0\n",
       "liveness            0.0\n",
       "valence             0.0\n",
       "tempo               0.0\n",
       "duration_ms         0.0\n",
       "time_signature      0.0\n",
       "chorus_hit          0.0\n",
       "sections            0.0\n",
       "target              0.0\n",
       "dtype: float64"
      ]
     },
     "execution_count": 12,
     "metadata": {},
     "output_type": "execute_result"
    }
   ],
   "source": [
    "# Checking for the null values in dataset\n",
    "df.isnull().mean()*100"
   ]
  },
  {
   "cell_type": "code",
   "execution_count": 13,
   "metadata": {},
   "outputs": [
    {
     "data": {
      "text/plain": [
       "Index(['artist', 'uri', 'danceability', 'energy', 'key', 'loudness', 'mode',\n",
       "       'speechiness', 'acousticness', 'instrumentalness', 'liveness',\n",
       "       'valence', 'tempo', 'duration_ms', 'time_signature', 'chorus_hit',\n",
       "       'sections', 'target'],\n",
       "      dtype='object')"
      ]
     },
     "execution_count": 13,
     "metadata": {},
     "output_type": "execute_result"
    }
   ],
   "source": [
    "df.columns"
   ]
  },
  {
   "cell_type": "code",
   "execution_count": 14,
   "metadata": {},
   "outputs": [
    {
     "data": {
      "text/plain": [
       "['artist',\n",
       " 'uri',\n",
       " 'danceability',\n",
       " 'energy',\n",
       " 'key',\n",
       " 'loudness',\n",
       " 'mode',\n",
       " 'speechiness',\n",
       " 'acousticness',\n",
       " 'instrumentalness',\n",
       " 'liveness',\n",
       " 'valence',\n",
       " 'tempo',\n",
       " 'duration_ms',\n",
       " 'time_signature',\n",
       " 'chorus_hit',\n",
       " 'sections',\n",
       " 'target']"
      ]
     },
     "execution_count": 14,
     "metadata": {},
     "output_type": "execute_result"
    }
   ],
   "source": [
    "features_response = df.columns.tolist()\n",
    "features_response"
   ]
  },
  {
   "cell_type": "markdown",
   "metadata": {},
   "source": [
    "**Finding Correlation between the atrributes**"
   ]
  },
  {
   "cell_type": "code",
   "execution_count": 15,
   "metadata": {},
   "outputs": [
    {
     "data": {
      "text/html": [
       "<div>\n",
       "<style scoped>\n",
       "    .dataframe tbody tr th:only-of-type {\n",
       "        vertical-align: middle;\n",
       "    }\n",
       "\n",
       "    .dataframe tbody tr th {\n",
       "        vertical-align: top;\n",
       "    }\n",
       "\n",
       "    .dataframe thead th {\n",
       "        text-align: right;\n",
       "    }\n",
       "</style>\n",
       "<table border=\"1\" class=\"dataframe\">\n",
       "  <thead>\n",
       "    <tr style=\"text-align: right;\">\n",
       "      <th></th>\n",
       "      <th>danceability</th>\n",
       "      <th>energy</th>\n",
       "      <th>key</th>\n",
       "      <th>loudness</th>\n",
       "      <th>mode</th>\n",
       "      <th>speechiness</th>\n",
       "      <th>acousticness</th>\n",
       "      <th>instrumentalness</th>\n",
       "      <th>liveness</th>\n",
       "      <th>valence</th>\n",
       "      <th>tempo</th>\n",
       "      <th>duration_ms</th>\n",
       "      <th>time_signature</th>\n",
       "      <th>chorus_hit</th>\n",
       "      <th>sections</th>\n",
       "      <th>target</th>\n",
       "    </tr>\n",
       "  </thead>\n",
       "  <tbody>\n",
       "    <tr>\n",
       "      <td>danceability</td>\n",
       "      <td>1.000000</td>\n",
       "      <td>0.206128</td>\n",
       "      <td>0.015433</td>\n",
       "      <td>0.274160</td>\n",
       "      <td>-0.032743</td>\n",
       "      <td>0.156452</td>\n",
       "      <td>-0.261252</td>\n",
       "      <td>-0.301915</td>\n",
       "      <td>-0.115251</td>\n",
       "      <td>0.553858</td>\n",
       "      <td>-0.066541</td>\n",
       "      <td>-0.063030</td>\n",
       "      <td>0.191664</td>\n",
       "      <td>-0.036277</td>\n",
       "      <td>-0.058615</td>\n",
       "      <td>0.346097</td>\n",
       "    </tr>\n",
       "    <tr>\n",
       "      <td>energy</td>\n",
       "      <td>0.206128</td>\n",
       "      <td>1.000000</td>\n",
       "      <td>0.022523</td>\n",
       "      <td>0.772628</td>\n",
       "      <td>-0.033780</td>\n",
       "      <td>0.122430</td>\n",
       "      <td>-0.715088</td>\n",
       "      <td>-0.208153</td>\n",
       "      <td>0.157779</td>\n",
       "      <td>0.341427</td>\n",
       "      <td>0.224018</td>\n",
       "      <td>0.011830</td>\n",
       "      <td>0.196072</td>\n",
       "      <td>0.009620</td>\n",
       "      <td>-0.040233</td>\n",
       "      <td>0.177142</td>\n",
       "    </tr>\n",
       "    <tr>\n",
       "      <td>key</td>\n",
       "      <td>0.015433</td>\n",
       "      <td>0.022523</td>\n",
       "      <td>1.000000</td>\n",
       "      <td>0.008438</td>\n",
       "      <td>-0.140455</td>\n",
       "      <td>0.026515</td>\n",
       "      <td>-0.024178</td>\n",
       "      <td>-0.013101</td>\n",
       "      <td>0.000668</td>\n",
       "      <td>0.007742</td>\n",
       "      <td>0.001154</td>\n",
       "      <td>0.015493</td>\n",
       "      <td>0.004757</td>\n",
       "      <td>0.010264</td>\n",
       "      <td>0.006784</td>\n",
       "      <td>0.009883</td>\n",
       "    </tr>\n",
       "    <tr>\n",
       "      <td>loudness</td>\n",
       "      <td>0.274160</td>\n",
       "      <td>0.772628</td>\n",
       "      <td>0.008438</td>\n",
       "      <td>1.000000</td>\n",
       "      <td>0.000509</td>\n",
       "      <td>0.069241</td>\n",
       "      <td>-0.566548</td>\n",
       "      <td>-0.374301</td>\n",
       "      <td>0.086708</td>\n",
       "      <td>0.271775</td>\n",
       "      <td>0.169453</td>\n",
       "      <td>-0.049890</td>\n",
       "      <td>0.165520</td>\n",
       "      <td>-0.013401</td>\n",
       "      <td>-0.080065</td>\n",
       "      <td>0.286034</td>\n",
       "    </tr>\n",
       "    <tr>\n",
       "      <td>mode</td>\n",
       "      <td>-0.032743</td>\n",
       "      <td>-0.033780</td>\n",
       "      <td>-0.140455</td>\n",
       "      <td>0.000509</td>\n",
       "      <td>1.000000</td>\n",
       "      <td>-0.059636</td>\n",
       "      <td>0.049961</td>\n",
       "      <td>-0.075992</td>\n",
       "      <td>0.008886</td>\n",
       "      <td>0.035636</td>\n",
       "      <td>0.027053</td>\n",
       "      <td>-0.074828</td>\n",
       "      <td>-0.009483</td>\n",
       "      <td>-0.022594</td>\n",
       "      <td>-0.057095</td>\n",
       "      <td>0.079614</td>\n",
       "    </tr>\n",
       "    <tr>\n",
       "      <td>speechiness</td>\n",
       "      <td>0.156452</td>\n",
       "      <td>0.122430</td>\n",
       "      <td>0.026515</td>\n",
       "      <td>0.069241</td>\n",
       "      <td>-0.059636</td>\n",
       "      <td>1.000000</td>\n",
       "      <td>-0.083948</td>\n",
       "      <td>-0.084092</td>\n",
       "      <td>0.131488</td>\n",
       "      <td>0.001528</td>\n",
       "      <td>0.036854</td>\n",
       "      <td>0.007631</td>\n",
       "      <td>0.021085</td>\n",
       "      <td>0.012972</td>\n",
       "      <td>-0.008636</td>\n",
       "      <td>-0.040835</td>\n",
       "    </tr>\n",
       "    <tr>\n",
       "      <td>acousticness</td>\n",
       "      <td>-0.261252</td>\n",
       "      <td>-0.715088</td>\n",
       "      <td>-0.024178</td>\n",
       "      <td>-0.566548</td>\n",
       "      <td>0.049961</td>\n",
       "      <td>-0.083948</td>\n",
       "      <td>1.000000</td>\n",
       "      <td>0.204137</td>\n",
       "      <td>-0.030765</td>\n",
       "      <td>-0.195331</td>\n",
       "      <td>-0.179700</td>\n",
       "      <td>-0.070271</td>\n",
       "      <td>-0.188139</td>\n",
       "      <td>-0.012409</td>\n",
       "      <td>-0.016824</td>\n",
       "      <td>-0.246036</td>\n",
       "    </tr>\n",
       "    <tr>\n",
       "      <td>instrumentalness</td>\n",
       "      <td>-0.301915</td>\n",
       "      <td>-0.208153</td>\n",
       "      <td>-0.013101</td>\n",
       "      <td>-0.374301</td>\n",
       "      <td>-0.075992</td>\n",
       "      <td>-0.084092</td>\n",
       "      <td>0.204137</td>\n",
       "      <td>1.000000</td>\n",
       "      <td>-0.050582</td>\n",
       "      <td>-0.287047</td>\n",
       "      <td>-0.053618</td>\n",
       "      <td>0.106551</td>\n",
       "      <td>-0.077980</td>\n",
       "      <td>0.048654</td>\n",
       "      <td>0.081188</td>\n",
       "      <td>-0.407638</td>\n",
       "    </tr>\n",
       "    <tr>\n",
       "      <td>liveness</td>\n",
       "      <td>-0.115251</td>\n",
       "      <td>0.157779</td>\n",
       "      <td>0.000668</td>\n",
       "      <td>0.086708</td>\n",
       "      <td>0.008886</td>\n",
       "      <td>0.131488</td>\n",
       "      <td>-0.030765</td>\n",
       "      <td>-0.050582</td>\n",
       "      <td>1.000000</td>\n",
       "      <td>0.000784</td>\n",
       "      <td>0.024861</td>\n",
       "      <td>0.005336</td>\n",
       "      <td>0.004773</td>\n",
       "      <td>0.037981</td>\n",
       "      <td>-0.011742</td>\n",
       "      <td>-0.051445</td>\n",
       "    </tr>\n",
       "    <tr>\n",
       "      <td>valence</td>\n",
       "      <td>0.553858</td>\n",
       "      <td>0.341427</td>\n",
       "      <td>0.007742</td>\n",
       "      <td>0.271775</td>\n",
       "      <td>0.035636</td>\n",
       "      <td>0.001528</td>\n",
       "      <td>-0.195331</td>\n",
       "      <td>-0.287047</td>\n",
       "      <td>0.000784</td>\n",
       "      <td>1.000000</td>\n",
       "      <td>0.107901</td>\n",
       "      <td>-0.172166</td>\n",
       "      <td>0.155669</td>\n",
       "      <td>-0.059120</td>\n",
       "      <td>-0.133527</td>\n",
       "      <td>0.251147</td>\n",
       "    </tr>\n",
       "    <tr>\n",
       "      <td>tempo</td>\n",
       "      <td>-0.066541</td>\n",
       "      <td>0.224018</td>\n",
       "      <td>0.001154</td>\n",
       "      <td>0.169453</td>\n",
       "      <td>0.027053</td>\n",
       "      <td>0.036854</td>\n",
       "      <td>-0.179700</td>\n",
       "      <td>-0.053618</td>\n",
       "      <td>0.024861</td>\n",
       "      <td>0.107901</td>\n",
       "      <td>1.000000</td>\n",
       "      <td>-0.024318</td>\n",
       "      <td>0.007659</td>\n",
       "      <td>-0.056054</td>\n",
       "      <td>0.024905</td>\n",
       "      <td>0.032649</td>\n",
       "    </tr>\n",
       "    <tr>\n",
       "      <td>duration_ms</td>\n",
       "      <td>-0.063030</td>\n",
       "      <td>0.011830</td>\n",
       "      <td>0.015493</td>\n",
       "      <td>-0.049890</td>\n",
       "      <td>-0.074828</td>\n",
       "      <td>0.007631</td>\n",
       "      <td>-0.070271</td>\n",
       "      <td>0.106551</td>\n",
       "      <td>0.005336</td>\n",
       "      <td>-0.172166</td>\n",
       "      <td>-0.024318</td>\n",
       "      <td>1.000000</td>\n",
       "      <td>0.018454</td>\n",
       "      <td>0.093875</td>\n",
       "      <td>0.888952</td>\n",
       "      <td>-0.073820</td>\n",
       "    </tr>\n",
       "    <tr>\n",
       "      <td>time_signature</td>\n",
       "      <td>0.191664</td>\n",
       "      <td>0.196072</td>\n",
       "      <td>0.004757</td>\n",
       "      <td>0.165520</td>\n",
       "      <td>-0.009483</td>\n",
       "      <td>0.021085</td>\n",
       "      <td>-0.188139</td>\n",
       "      <td>-0.077980</td>\n",
       "      <td>0.004773</td>\n",
       "      <td>0.155669</td>\n",
       "      <td>0.007659</td>\n",
       "      <td>0.018454</td>\n",
       "      <td>1.000000</td>\n",
       "      <td>-0.011281</td>\n",
       "      <td>0.008424</td>\n",
       "      <td>0.104884</td>\n",
       "    </tr>\n",
       "    <tr>\n",
       "      <td>chorus_hit</td>\n",
       "      <td>-0.036277</td>\n",
       "      <td>0.009620</td>\n",
       "      <td>0.010264</td>\n",
       "      <td>-0.013401</td>\n",
       "      <td>-0.022594</td>\n",
       "      <td>0.012972</td>\n",
       "      <td>-0.012409</td>\n",
       "      <td>0.048654</td>\n",
       "      <td>0.037981</td>\n",
       "      <td>-0.059120</td>\n",
       "      <td>-0.056054</td>\n",
       "      <td>0.093875</td>\n",
       "      <td>-0.011281</td>\n",
       "      <td>1.000000</td>\n",
       "      <td>-0.085920</td>\n",
       "      <td>-0.046409</td>\n",
       "    </tr>\n",
       "    <tr>\n",
       "      <td>sections</td>\n",
       "      <td>-0.058615</td>\n",
       "      <td>-0.040233</td>\n",
       "      <td>0.006784</td>\n",
       "      <td>-0.080065</td>\n",
       "      <td>-0.057095</td>\n",
       "      <td>-0.008636</td>\n",
       "      <td>-0.016824</td>\n",
       "      <td>0.081188</td>\n",
       "      <td>-0.011742</td>\n",
       "      <td>-0.133527</td>\n",
       "      <td>0.024905</td>\n",
       "      <td>0.888952</td>\n",
       "      <td>0.008424</td>\n",
       "      <td>-0.085920</td>\n",
       "      <td>1.000000</td>\n",
       "      <td>-0.059997</td>\n",
       "    </tr>\n",
       "    <tr>\n",
       "      <td>target</td>\n",
       "      <td>0.346097</td>\n",
       "      <td>0.177142</td>\n",
       "      <td>0.009883</td>\n",
       "      <td>0.286034</td>\n",
       "      <td>0.079614</td>\n",
       "      <td>-0.040835</td>\n",
       "      <td>-0.246036</td>\n",
       "      <td>-0.407638</td>\n",
       "      <td>-0.051445</td>\n",
       "      <td>0.251147</td>\n",
       "      <td>0.032649</td>\n",
       "      <td>-0.073820</td>\n",
       "      <td>0.104884</td>\n",
       "      <td>-0.046409</td>\n",
       "      <td>-0.059997</td>\n",
       "      <td>1.000000</td>\n",
       "    </tr>\n",
       "  </tbody>\n",
       "</table>\n",
       "</div>"
      ],
      "text/plain": [
       "                  danceability    energy       key  loudness      mode  \\\n",
       "danceability          1.000000  0.206128  0.015433  0.274160 -0.032743   \n",
       "energy                0.206128  1.000000  0.022523  0.772628 -0.033780   \n",
       "key                   0.015433  0.022523  1.000000  0.008438 -0.140455   \n",
       "loudness              0.274160  0.772628  0.008438  1.000000  0.000509   \n",
       "mode                 -0.032743 -0.033780 -0.140455  0.000509  1.000000   \n",
       "speechiness           0.156452  0.122430  0.026515  0.069241 -0.059636   \n",
       "acousticness         -0.261252 -0.715088 -0.024178 -0.566548  0.049961   \n",
       "instrumentalness     -0.301915 -0.208153 -0.013101 -0.374301 -0.075992   \n",
       "liveness             -0.115251  0.157779  0.000668  0.086708  0.008886   \n",
       "valence               0.553858  0.341427  0.007742  0.271775  0.035636   \n",
       "tempo                -0.066541  0.224018  0.001154  0.169453  0.027053   \n",
       "duration_ms          -0.063030  0.011830  0.015493 -0.049890 -0.074828   \n",
       "time_signature        0.191664  0.196072  0.004757  0.165520 -0.009483   \n",
       "chorus_hit           -0.036277  0.009620  0.010264 -0.013401 -0.022594   \n",
       "sections             -0.058615 -0.040233  0.006784 -0.080065 -0.057095   \n",
       "target                0.346097  0.177142  0.009883  0.286034  0.079614   \n",
       "\n",
       "                  speechiness  acousticness  instrumentalness  liveness  \\\n",
       "danceability         0.156452     -0.261252         -0.301915 -0.115251   \n",
       "energy               0.122430     -0.715088         -0.208153  0.157779   \n",
       "key                  0.026515     -0.024178         -0.013101  0.000668   \n",
       "loudness             0.069241     -0.566548         -0.374301  0.086708   \n",
       "mode                -0.059636      0.049961         -0.075992  0.008886   \n",
       "speechiness          1.000000     -0.083948         -0.084092  0.131488   \n",
       "acousticness        -0.083948      1.000000          0.204137 -0.030765   \n",
       "instrumentalness    -0.084092      0.204137          1.000000 -0.050582   \n",
       "liveness             0.131488     -0.030765         -0.050582  1.000000   \n",
       "valence              0.001528     -0.195331         -0.287047  0.000784   \n",
       "tempo                0.036854     -0.179700         -0.053618  0.024861   \n",
       "duration_ms          0.007631     -0.070271          0.106551  0.005336   \n",
       "time_signature       0.021085     -0.188139         -0.077980  0.004773   \n",
       "chorus_hit           0.012972     -0.012409          0.048654  0.037981   \n",
       "sections            -0.008636     -0.016824          0.081188 -0.011742   \n",
       "target              -0.040835     -0.246036         -0.407638 -0.051445   \n",
       "\n",
       "                   valence     tempo  duration_ms  time_signature  chorus_hit  \\\n",
       "danceability      0.553858 -0.066541    -0.063030        0.191664   -0.036277   \n",
       "energy            0.341427  0.224018     0.011830        0.196072    0.009620   \n",
       "key               0.007742  0.001154     0.015493        0.004757    0.010264   \n",
       "loudness          0.271775  0.169453    -0.049890        0.165520   -0.013401   \n",
       "mode              0.035636  0.027053    -0.074828       -0.009483   -0.022594   \n",
       "speechiness       0.001528  0.036854     0.007631        0.021085    0.012972   \n",
       "acousticness     -0.195331 -0.179700    -0.070271       -0.188139   -0.012409   \n",
       "instrumentalness -0.287047 -0.053618     0.106551       -0.077980    0.048654   \n",
       "liveness          0.000784  0.024861     0.005336        0.004773    0.037981   \n",
       "valence           1.000000  0.107901    -0.172166        0.155669   -0.059120   \n",
       "tempo             0.107901  1.000000    -0.024318        0.007659   -0.056054   \n",
       "duration_ms      -0.172166 -0.024318     1.000000        0.018454    0.093875   \n",
       "time_signature    0.155669  0.007659     0.018454        1.000000   -0.011281   \n",
       "chorus_hit       -0.059120 -0.056054     0.093875       -0.011281    1.000000   \n",
       "sections         -0.133527  0.024905     0.888952        0.008424   -0.085920   \n",
       "target            0.251147  0.032649    -0.073820        0.104884   -0.046409   \n",
       "\n",
       "                  sections    target  \n",
       "danceability     -0.058615  0.346097  \n",
       "energy           -0.040233  0.177142  \n",
       "key               0.006784  0.009883  \n",
       "loudness         -0.080065  0.286034  \n",
       "mode             -0.057095  0.079614  \n",
       "speechiness      -0.008636 -0.040835  \n",
       "acousticness     -0.016824 -0.246036  \n",
       "instrumentalness  0.081188 -0.407638  \n",
       "liveness         -0.011742 -0.051445  \n",
       "valence          -0.133527  0.251147  \n",
       "tempo             0.024905  0.032649  \n",
       "duration_ms       0.888952 -0.073820  \n",
       "time_signature    0.008424  0.104884  \n",
       "chorus_hit       -0.085920 -0.046409  \n",
       "sections          1.000000 -0.059997  \n",
       "target           -0.059997  1.000000  "
      ]
     },
     "execution_count": 15,
     "metadata": {},
     "output_type": "execute_result"
    }
   ],
   "source": [
    "c = df.corr()\n",
    "c"
   ]
  },
  {
   "cell_type": "markdown",
   "metadata": {},
   "source": [
    "**Drawing the Heatmap**"
   ]
  },
  {
   "cell_type": "code",
   "execution_count": 16,
   "metadata": {},
   "outputs": [
    {
     "data": {
      "text/plain": [
       "Text(0.5, 1.0, \"Correlation of dataset Attributes from 00's to 90's\")"
      ]
     },
     "execution_count": 16,
     "metadata": {},
     "output_type": "execute_result"
    },
    {
     "data": {
      "image/png": "[encoded data removed]",
      "text/plain": [
       "<Figure size 864x720 with 2 Axes>"
      ]
     },
     "metadata": {
      "needs_background": "light"
     },
     "output_type": "display_data"
    }
   ],
   "source": [
    "plt.figure(figsize=(12,10))\n",
    "sns.heatmap(c, cmap='BrBG', annot=True, linewidths=0.2)\n",
    "plt.title(\"Correlation of dataset Attributes from 00's to 90's\")"
   ]
  },
  {
   "cell_type": "markdown",
   "metadata": {},
   "source": [
    "**From above heatmap,we can observe that music attributes such as danceability, loudness, valence, and energy have impact on the target variable that can decide whether the song is hit or flop**"
   ]
  },
  {
   "cell_type": "markdown",
   "metadata": {},
   "source": [
    "# Balance The Dataset"
   ]
  },
  {
   "cell_type": "markdown",
   "metadata": {},
   "source": [
    "**To check whether the target variable is balanced or not**"
   ]
  },
  {
   "cell_type": "code",
   "execution_count": 17,
   "metadata": {},
   "outputs": [
    {
     "data": {
      "text/plain": [
       "1    20553\n",
       "0    20553\n",
       "Name: target, dtype: int64"
      ]
     },
     "execution_count": 17,
     "metadata": {},
     "output_type": "execute_result"
    }
   ],
   "source": [
    "df.target.value_counts()"
   ]
  },
  {
   "cell_type": "markdown",
   "metadata": {},
   "source": [
    "**Here the dataset is balanced with almost same no.of 'hits' and 'flops' , therefore no need to perform any new techniques to transform the dataset**"
   ]
  },
  {
   "cell_type": "markdown",
   "metadata": {},
   "source": [
    "# Shuffle The Data"
   ]
  },
  {
   "cell_type": "code",
   "execution_count": 18,
   "metadata": {},
   "outputs": [
    {
     "data": {
      "text/html": [
       "<div>\n",
       "<style scoped>\n",
       "    .dataframe tbody tr th:only-of-type {\n",
       "        vertical-align: middle;\n",
       "    }\n",
       "\n",
       "    .dataframe tbody tr th {\n",
       "        vertical-align: top;\n",
       "    }\n",
       "\n",
       "    .dataframe thead th {\n",
       "        text-align: right;\n",
       "    }\n",
       "</style>\n",
       "<table border=\"1\" class=\"dataframe\">\n",
       "  <thead>\n",
       "    <tr style=\"text-align: right;\">\n",
       "      <th></th>\n",
       "      <th>artist</th>\n",
       "      <th>uri</th>\n",
       "      <th>danceability</th>\n",
       "      <th>energy</th>\n",
       "      <th>key</th>\n",
       "      <th>loudness</th>\n",
       "      <th>mode</th>\n",
       "      <th>speechiness</th>\n",
       "      <th>acousticness</th>\n",
       "      <th>instrumentalness</th>\n",
       "      <th>liveness</th>\n",
       "      <th>valence</th>\n",
       "      <th>tempo</th>\n",
       "      <th>duration_ms</th>\n",
       "      <th>time_signature</th>\n",
       "      <th>chorus_hit</th>\n",
       "      <th>sections</th>\n",
       "      <th>target</th>\n",
       "    </tr>\n",
       "    <tr>\n",
       "      <th>track</th>\n",
       "      <th></th>\n",
       "      <th></th>\n",
       "      <th></th>\n",
       "      <th></th>\n",
       "      <th></th>\n",
       "      <th></th>\n",
       "      <th></th>\n",
       "      <th></th>\n",
       "      <th></th>\n",
       "      <th></th>\n",
       "      <th></th>\n",
       "      <th></th>\n",
       "      <th></th>\n",
       "      <th></th>\n",
       "      <th></th>\n",
       "      <th></th>\n",
       "      <th></th>\n",
       "      <th></th>\n",
       "    </tr>\n",
       "  </thead>\n",
       "  <tbody>\n",
       "    <tr>\n",
       "      <td>Kaskados Minnelied</td>\n",
       "      <td>Amon Düül</td>\n",
       "      <td>spotify:track:1s1o1BbQl08HOI2dLfxp8C</td>\n",
       "      <td>0.308</td>\n",
       "      <td>0.254</td>\n",
       "      <td>0</td>\n",
       "      <td>-23.062</td>\n",
       "      <td>1</td>\n",
       "      <td>0.0335</td>\n",
       "      <td>0.51600</td>\n",
       "      <td>0.92400</td>\n",
       "      <td>0.7460</td>\n",
       "      <td>0.312</td>\n",
       "      <td>113.819</td>\n",
       "      <td>173067</td>\n",
       "      <td>3</td>\n",
       "      <td>30.02904</td>\n",
       "      <td>11</td>\n",
       "      <td>0</td>\n",
       "    </tr>\n",
       "    <tr>\n",
       "      <td>FourFiveSeconds</td>\n",
       "      <td>Rihanna &amp; Kanye West &amp; Paul McCartney</td>\n",
       "      <td>spotify:track:78TTtXnFQPzwqlbtbwqN0y</td>\n",
       "      <td>0.582</td>\n",
       "      <td>0.272</td>\n",
       "      <td>2</td>\n",
       "      <td>-5.662</td>\n",
       "      <td>1</td>\n",
       "      <td>0.0501</td>\n",
       "      <td>0.87500</td>\n",
       "      <td>0.00000</td>\n",
       "      <td>0.1300</td>\n",
       "      <td>0.354</td>\n",
       "      <td>205.846</td>\n",
       "      <td>188238</td>\n",
       "      <td>4</td>\n",
       "      <td>45.10799</td>\n",
       "      <td>9</td>\n",
       "      <td>1</td>\n",
       "    </tr>\n",
       "    <tr>\n",
       "      <td>(The Bees Are For The Birds) The Birds Are For The Bees</td>\n",
       "      <td>The Newbeats</td>\n",
       "      <td>spotify:track:7eGLhn6AJNiXJUS7VawiUK</td>\n",
       "      <td>0.483</td>\n",
       "      <td>0.478</td>\n",
       "      <td>6</td>\n",
       "      <td>-13.621</td>\n",
       "      <td>1</td>\n",
       "      <td>0.0789</td>\n",
       "      <td>0.74900</td>\n",
       "      <td>0.00000</td>\n",
       "      <td>0.2580</td>\n",
       "      <td>0.913</td>\n",
       "      <td>170.401</td>\n",
       "      <td>133707</td>\n",
       "      <td>4</td>\n",
       "      <td>36.18441</td>\n",
       "      <td>7</td>\n",
       "      <td>1</td>\n",
       "    </tr>\n",
       "    <tr>\n",
       "      <td>Just The Girl</td>\n",
       "      <td>The Click Five</td>\n",
       "      <td>spotify:track:1JURww012QnWAw0zZXi6Aa</td>\n",
       "      <td>0.571</td>\n",
       "      <td>0.890</td>\n",
       "      <td>9</td>\n",
       "      <td>-1.600</td>\n",
       "      <td>1</td>\n",
       "      <td>0.0395</td>\n",
       "      <td>0.00509</td>\n",
       "      <td>0.00000</td>\n",
       "      <td>0.0769</td>\n",
       "      <td>0.751</td>\n",
       "      <td>110.958</td>\n",
       "      <td>234147</td>\n",
       "      <td>4</td>\n",
       "      <td>38.44265</td>\n",
       "      <td>9</td>\n",
       "      <td>1</td>\n",
       "    </tr>\n",
       "    <tr>\n",
       "      <td>I Want You So Bad</td>\n",
       "      <td>Heart</td>\n",
       "      <td>spotify:track:1aupoGq6oWjYKOKbabJ0Bm</td>\n",
       "      <td>0.322</td>\n",
       "      <td>0.529</td>\n",
       "      <td>9</td>\n",
       "      <td>-13.676</td>\n",
       "      <td>0</td>\n",
       "      <td>0.0326</td>\n",
       "      <td>0.25000</td>\n",
       "      <td>0.00015</td>\n",
       "      <td>0.1810</td>\n",
       "      <td>0.358</td>\n",
       "      <td>124.620</td>\n",
       "      <td>261640</td>\n",
       "      <td>5</td>\n",
       "      <td>93.23328</td>\n",
       "      <td>8</td>\n",
       "      <td>1</td>\n",
       "    </tr>\n",
       "  </tbody>\n",
       "</table>\n",
       "</div>"
      ],
      "text/plain": [
       "                                                                                   artist  \\\n",
       "track                                                                                       \n",
       "Kaskados Minnelied                                                              Amon Düül   \n",
       "FourFiveSeconds                                     Rihanna & Kanye West & Paul McCartney   \n",
       "(The Bees Are For The Birds) The Birds Are For ...                           The Newbeats   \n",
       "Just The Girl                                                              The Click Five   \n",
       "I Want You So Bad                                                                   Heart   \n",
       "\n",
       "                                                                                     uri  \\\n",
       "track                                                                                      \n",
       "Kaskados Minnelied                                  spotify:track:1s1o1BbQl08HOI2dLfxp8C   \n",
       "FourFiveSeconds                                     spotify:track:78TTtXnFQPzwqlbtbwqN0y   \n",
       "(The Bees Are For The Birds) The Birds Are For ...  spotify:track:7eGLhn6AJNiXJUS7VawiUK   \n",
       "Just The Girl                                       spotify:track:1JURww012QnWAw0zZXi6Aa   \n",
       "I Want You So Bad                                   spotify:track:1aupoGq6oWjYKOKbabJ0Bm   \n",
       "\n",
       "                                                    danceability  energy  key  \\\n",
       "track                                                                           \n",
       "Kaskados Minnelied                                         0.308   0.254    0   \n",
       "FourFiveSeconds                                            0.582   0.272    2   \n",
       "(The Bees Are For The Birds) The Birds Are For ...         0.483   0.478    6   \n",
       "Just The Girl                                              0.571   0.890    9   \n",
       "I Want You So Bad                                          0.322   0.529    9   \n",
       "\n",
       "                                                    loudness  mode  \\\n",
       "track                                                                \n",
       "Kaskados Minnelied                                   -23.062     1   \n",
       "FourFiveSeconds                                       -5.662     1   \n",
       "(The Bees Are For The Birds) The Birds Are For ...   -13.621     1   \n",
       "Just The Girl                                         -1.600     1   \n",
       "I Want You So Bad                                    -13.676     0   \n",
       "\n",
       "                                                    speechiness  acousticness  \\\n",
       "track                                                                           \n",
       "Kaskados Minnelied                                       0.0335       0.51600   \n",
       "FourFiveSeconds                                          0.0501       0.87500   \n",
       "(The Bees Are For The Birds) The Birds Are For ...       0.0789       0.74900   \n",
       "Just The Girl                                            0.0395       0.00509   \n",
       "I Want You So Bad                                        0.0326       0.25000   \n",
       "\n",
       "                                                    instrumentalness  \\\n",
       "track                                                                  \n",
       "Kaskados Minnelied                                           0.92400   \n",
       "FourFiveSeconds                                              0.00000   \n",
       "(The Bees Are For The Birds) The Birds Are For ...           0.00000   \n",
       "Just The Girl                                                0.00000   \n",
       "I Want You So Bad                                            0.00015   \n",
       "\n",
       "                                                    liveness  valence  \\\n",
       "track                                                                   \n",
       "Kaskados Minnelied                                    0.7460    0.312   \n",
       "FourFiveSeconds                                       0.1300    0.354   \n",
       "(The Bees Are For The Birds) The Birds Are For ...    0.2580    0.913   \n",
       "Just The Girl                                         0.0769    0.751   \n",
       "I Want You So Bad                                     0.1810    0.358   \n",
       "\n",
       "                                                      tempo  duration_ms  \\\n",
       "track                                                                      \n",
       "Kaskados Minnelied                                  113.819       173067   \n",
       "FourFiveSeconds                                     205.846       188238   \n",
       "(The Bees Are For The Birds) The Birds Are For ...  170.401       133707   \n",
       "Just The Girl                                       110.958       234147   \n",
       "I Want You So Bad                                   124.620       261640   \n",
       "\n",
       "                                                    time_signature  \\\n",
       "track                                                                \n",
       "Kaskados Minnelied                                               3   \n",
       "FourFiveSeconds                                                  4   \n",
       "(The Bees Are For The Birds) The Birds Are For ...               4   \n",
       "Just The Girl                                                    4   \n",
       "I Want You So Bad                                                5   \n",
       "\n",
       "                                                    chorus_hit  sections  \\\n",
       "track                                                                      \n",
       "Kaskados Minnelied                                    30.02904        11   \n",
       "FourFiveSeconds                                       45.10799         9   \n",
       "(The Bees Are For The Birds) The Birds Are For ...    36.18441         7   \n",
       "Just The Girl                                         38.44265         9   \n",
       "I Want You So Bad                                     93.23328         8   \n",
       "\n",
       "                                                    target  \n",
       "track                                                       \n",
       "Kaskados Minnelied                                       0  \n",
       "FourFiveSeconds                                          1  \n",
       "(The Bees Are For The Birds) The Birds Are For ...       1  \n",
       "Just The Girl                                            1  \n",
       "I Want You So Bad                                        1  "
      ]
     },
     "execution_count": 18,
     "metadata": {},
     "output_type": "execute_result"
    }
   ],
   "source": [
    "df = df.sample(frac=1)\n",
    "df.head()"
   ]
  },
  {
   "cell_type": "markdown",
   "metadata": {},
   "source": [
    "# Standardizing the Inputs"
   ]
  },
  {
   "cell_type": "markdown",
   "metadata": {},
   "source": [
    "**Removing object type variables**"
   ]
  },
  {
   "cell_type": "code",
   "execution_count": 19,
   "metadata": {},
   "outputs": [
    {
     "data": {
      "text/html": [
       "<div>\n",
       "<style scoped>\n",
       "    .dataframe tbody tr th:only-of-type {\n",
       "        vertical-align: middle;\n",
       "    }\n",
       "\n",
       "    .dataframe tbody tr th {\n",
       "        vertical-align: top;\n",
       "    }\n",
       "\n",
       "    .dataframe thead th {\n",
       "        text-align: right;\n",
       "    }\n",
       "</style>\n",
       "<table border=\"1\" class=\"dataframe\">\n",
       "  <thead>\n",
       "    <tr style=\"text-align: right;\">\n",
       "      <th></th>\n",
       "      <th>danceability</th>\n",
       "      <th>energy</th>\n",
       "      <th>key</th>\n",
       "      <th>loudness</th>\n",
       "      <th>mode</th>\n",
       "      <th>speechiness</th>\n",
       "      <th>acousticness</th>\n",
       "      <th>instrumentalness</th>\n",
       "      <th>liveness</th>\n",
       "      <th>valence</th>\n",
       "      <th>tempo</th>\n",
       "      <th>duration_ms</th>\n",
       "      <th>time_signature</th>\n",
       "      <th>chorus_hit</th>\n",
       "      <th>sections</th>\n",
       "      <th>target</th>\n",
       "    </tr>\n",
       "    <tr>\n",
       "      <th>track</th>\n",
       "      <th></th>\n",
       "      <th></th>\n",
       "      <th></th>\n",
       "      <th></th>\n",
       "      <th></th>\n",
       "      <th></th>\n",
       "      <th></th>\n",
       "      <th></th>\n",
       "      <th></th>\n",
       "      <th></th>\n",
       "      <th></th>\n",
       "      <th></th>\n",
       "      <th></th>\n",
       "      <th></th>\n",
       "      <th></th>\n",
       "      <th></th>\n",
       "    </tr>\n",
       "  </thead>\n",
       "  <tbody>\n",
       "    <tr>\n",
       "      <td>Kaskados Minnelied</td>\n",
       "      <td>0.308</td>\n",
       "      <td>0.254</td>\n",
       "      <td>0</td>\n",
       "      <td>-23.062</td>\n",
       "      <td>1</td>\n",
       "      <td>0.0335</td>\n",
       "      <td>0.51600</td>\n",
       "      <td>0.92400</td>\n",
       "      <td>0.7460</td>\n",
       "      <td>0.312</td>\n",
       "      <td>113.819</td>\n",
       "      <td>173067</td>\n",
       "      <td>3</td>\n",
       "      <td>30.02904</td>\n",
       "      <td>11</td>\n",
       "      <td>0</td>\n",
       "    </tr>\n",
       "    <tr>\n",
       "      <td>FourFiveSeconds</td>\n",
       "      <td>0.582</td>\n",
       "      <td>0.272</td>\n",
       "      <td>2</td>\n",
       "      <td>-5.662</td>\n",
       "      <td>1</td>\n",
       "      <td>0.0501</td>\n",
       "      <td>0.87500</td>\n",
       "      <td>0.00000</td>\n",
       "      <td>0.1300</td>\n",
       "      <td>0.354</td>\n",
       "      <td>205.846</td>\n",
       "      <td>188238</td>\n",
       "      <td>4</td>\n",
       "      <td>45.10799</td>\n",
       "      <td>9</td>\n",
       "      <td>1</td>\n",
       "    </tr>\n",
       "    <tr>\n",
       "      <td>(The Bees Are For The Birds) The Birds Are For The Bees</td>\n",
       "      <td>0.483</td>\n",
       "      <td>0.478</td>\n",
       "      <td>6</td>\n",
       "      <td>-13.621</td>\n",
       "      <td>1</td>\n",
       "      <td>0.0789</td>\n",
       "      <td>0.74900</td>\n",
       "      <td>0.00000</td>\n",
       "      <td>0.2580</td>\n",
       "      <td>0.913</td>\n",
       "      <td>170.401</td>\n",
       "      <td>133707</td>\n",
       "      <td>4</td>\n",
       "      <td>36.18441</td>\n",
       "      <td>7</td>\n",
       "      <td>1</td>\n",
       "    </tr>\n",
       "    <tr>\n",
       "      <td>Just The Girl</td>\n",
       "      <td>0.571</td>\n",
       "      <td>0.890</td>\n",
       "      <td>9</td>\n",
       "      <td>-1.600</td>\n",
       "      <td>1</td>\n",
       "      <td>0.0395</td>\n",
       "      <td>0.00509</td>\n",
       "      <td>0.00000</td>\n",
       "      <td>0.0769</td>\n",
       "      <td>0.751</td>\n",
       "      <td>110.958</td>\n",
       "      <td>234147</td>\n",
       "      <td>4</td>\n",
       "      <td>38.44265</td>\n",
       "      <td>9</td>\n",
       "      <td>1</td>\n",
       "    </tr>\n",
       "    <tr>\n",
       "      <td>I Want You So Bad</td>\n",
       "      <td>0.322</td>\n",
       "      <td>0.529</td>\n",
       "      <td>9</td>\n",
       "      <td>-13.676</td>\n",
       "      <td>0</td>\n",
       "      <td>0.0326</td>\n",
       "      <td>0.25000</td>\n",
       "      <td>0.00015</td>\n",
       "      <td>0.1810</td>\n",
       "      <td>0.358</td>\n",
       "      <td>124.620</td>\n",
       "      <td>261640</td>\n",
       "      <td>5</td>\n",
       "      <td>93.23328</td>\n",
       "      <td>8</td>\n",
       "      <td>1</td>\n",
       "    </tr>\n",
       "  </tbody>\n",
       "</table>\n",
       "</div>"
      ],
      "text/plain": [
       "                                                    danceability  energy  key  \\\n",
       "track                                                                           \n",
       "Kaskados Minnelied                                         0.308   0.254    0   \n",
       "FourFiveSeconds                                            0.582   0.272    2   \n",
       "(The Bees Are For The Birds) The Birds Are For ...         0.483   0.478    6   \n",
       "Just The Girl                                              0.571   0.890    9   \n",
       "I Want You So Bad                                          0.322   0.529    9   \n",
       "\n",
       "                                                    loudness  mode  \\\n",
       "track                                                                \n",
       "Kaskados Minnelied                                   -23.062     1   \n",
       "FourFiveSeconds                                       -5.662     1   \n",
       "(The Bees Are For The Birds) The Birds Are For ...   -13.621     1   \n",
       "Just The Girl                                         -1.600     1   \n",
       "I Want You So Bad                                    -13.676     0   \n",
       "\n",
       "                                                    speechiness  acousticness  \\\n",
       "track                                                                           \n",
       "Kaskados Minnelied                                       0.0335       0.51600   \n",
       "FourFiveSeconds                                          0.0501       0.87500   \n",
       "(The Bees Are For The Birds) The Birds Are For ...       0.0789       0.74900   \n",
       "Just The Girl                                            0.0395       0.00509   \n",
       "I Want You So Bad                                        0.0326       0.25000   \n",
       "\n",
       "                                                    instrumentalness  \\\n",
       "track                                                                  \n",
       "Kaskados Minnelied                                           0.92400   \n",
       "FourFiveSeconds                                              0.00000   \n",
       "(The Bees Are For The Birds) The Birds Are For ...           0.00000   \n",
       "Just The Girl                                                0.00000   \n",
       "I Want You So Bad                                            0.00015   \n",
       "\n",
       "                                                    liveness  valence  \\\n",
       "track                                                                   \n",
       "Kaskados Minnelied                                    0.7460    0.312   \n",
       "FourFiveSeconds                                       0.1300    0.354   \n",
       "(The Bees Are For The Birds) The Birds Are For ...    0.2580    0.913   \n",
       "Just The Girl                                         0.0769    0.751   \n",
       "I Want You So Bad                                     0.1810    0.358   \n",
       "\n",
       "                                                      tempo  duration_ms  \\\n",
       "track                                                                      \n",
       "Kaskados Minnelied                                  113.819       173067   \n",
       "FourFiveSeconds                                     205.846       188238   \n",
       "(The Bees Are For The Birds) The Birds Are For ...  170.401       133707   \n",
       "Just The Girl                                       110.958       234147   \n",
       "I Want You So Bad                                   124.620       261640   \n",
       "\n",
       "                                                    time_signature  \\\n",
       "track                                                                \n",
       "Kaskados Minnelied                                               3   \n",
       "FourFiveSeconds                                                  4   \n",
       "(The Bees Are For The Birds) The Birds Are For ...               4   \n",
       "Just The Girl                                                    4   \n",
       "I Want You So Bad                                                5   \n",
       "\n",
       "                                                    chorus_hit  sections  \\\n",
       "track                                                                      \n",
       "Kaskados Minnelied                                    30.02904        11   \n",
       "FourFiveSeconds                                       45.10799         9   \n",
       "(The Bees Are For The Birds) The Birds Are For ...    36.18441         7   \n",
       "Just The Girl                                         38.44265         9   \n",
       "I Want You So Bad                                     93.23328         8   \n",
       "\n",
       "                                                    target  \n",
       "track                                                       \n",
       "Kaskados Minnelied                                       0  \n",
       "FourFiveSeconds                                          1  \n",
       "(The Bees Are For The Birds) The Birds Are For ...       1  \n",
       "Just The Girl                                            1  \n",
       "I Want You So Bad                                        1  "
      ]
     },
     "execution_count": 19,
     "metadata": {},
     "output_type": "execute_result"
    }
   ],
   "source": [
    "df.drop(['artist','uri'], axis=1, inplace=True)\n",
    "df.head()"
   ]
  },
  {
   "cell_type": "code",
   "execution_count": 20,
   "metadata": {},
   "outputs": [],
   "source": [
    "X = df.iloc[:,:-1]\n",
    "y = df.iloc[:,-1:]"
   ]
  },
  {
   "cell_type": "code",
   "execution_count": 21,
   "metadata": {},
   "outputs": [
    {
     "data": {
      "text/plain": [
       "array([[-1.30298497, -1.2886474 , -1.47487736, ..., -2.11240114,\n",
       "        -0.53022102,  0.10762517],\n",
       "       [ 0.2379112 , -1.21739562, -0.90909593, ...,  0.25128465,\n",
       "         0.26318728, -0.30290146],\n",
       "       [-0.31883596, -0.40195858,  0.22246692, ...,  0.25128465,\n",
       "        -0.20634425, -0.71342808],\n",
       "       ...,\n",
       "       [ 1.71694657,  0.33035138,  0.22246692, ...,  0.25128465,\n",
       "        -1.12292041,  5.03394467],\n",
       "       [ 1.00273557,  0.80536325,  1.35402977, ...,  0.25128465,\n",
       "        -0.70910654,  0.31288848],\n",
       "       [ 0.25478232,  0.46493807, -1.19198665, ...,  2.61497044,\n",
       "        -0.45653309, -0.09763814]])"
      ]
     },
     "execution_count": 21,
     "metadata": {},
     "output_type": "execute_result"
    }
   ],
   "source": [
    "scaled_inputs = preprocessing.scale(X)\n",
    "scaled_inputs"
   ]
  },
  {
   "cell_type": "markdown",
   "metadata": {},
   "source": [
    "**Splitting the Dataset into Train,Validation and Test**"
   ]
  },
  {
   "cell_type": "code",
   "execution_count": 22,
   "metadata": {},
   "outputs": [],
   "source": [
    "from sklearn.model_selection import train_test_split"
   ]
  },
  {
   "cell_type": "code",
   "execution_count": 23,
   "metadata": {},
   "outputs": [
    {
     "data": {
      "text/plain": [
       "(41106, 15)"
      ]
     },
     "execution_count": 23,
     "metadata": {},
     "output_type": "execute_result"
    }
   ],
   "source": [
    "scaled_inputs.shape"
   ]
  },
  {
   "cell_type": "code",
   "execution_count": 24,
   "metadata": {},
   "outputs": [
    {
     "data": {
      "text/plain": [
       "41106"
      ]
     },
     "execution_count": 24,
     "metadata": {},
     "output_type": "execute_result"
    }
   ],
   "source": [
    "samples_count = scaled_inputs.shape[0]\n",
    "samples_count"
   ]
  },
  {
   "cell_type": "code",
   "execution_count": 25,
   "metadata": {},
   "outputs": [],
   "source": [
    "train_count = int(0.8*samples_count)\n",
    "validation_count = int(0.1*samples_count)\n",
    "test_count = int(0.1*samples_count)"
   ]
  },
  {
   "cell_type": "code",
   "execution_count": 26,
   "metadata": {},
   "outputs": [],
   "source": [
    "# Train data\n",
    "X_train = scaled_inputs[:train_count]\n",
    "y_train = y[:train_count]"
   ]
  },
  {
   "cell_type": "code",
   "execution_count": 27,
   "metadata": {},
   "outputs": [],
   "source": [
    "# Validation data\n",
    "X_val = scaled_inputs[:validation_count]\n",
    "y_val = y[:validation_count]"
   ]
  },
  {
   "cell_type": "code",
   "execution_count": 28,
   "metadata": {},
   "outputs": [],
   "source": [
    "# Test data\n",
    "X_test = scaled_inputs[:test_count]\n",
    "y_test = y[:test_count]"
   ]
  },
  {
   "cell_type": "code",
   "execution_count": 29,
   "metadata": {},
   "outputs": [
    {
     "name": "stdout",
     "output_type": "stream",
     "text": [
      "target    16453\n",
      "dtype: int64 32884 target    0.500335\n",
      "dtype: float64\n",
      "target    2053\n",
      "dtype: int64 4110 target    0.499513\n",
      "dtype: float64\n",
      "target    2053\n",
      "dtype: int64 4110 target    0.499513\n",
      "dtype: float64\n"
     ]
    }
   ],
   "source": [
    "# Print the no.of targets that are 1s, the total number of samples, and the proportion for training, validation, and test.\n",
    "print(np.sum(y_train), train_count, np.sum(y_train) / train_count)\n",
    "print(np.sum(y_val), validation_count, np.sum(y_val) / validation_count)\n",
    "print(np.sum(y_test), test_count, np.sum(y_test) / test_count)"
   ]
  },
  {
   "cell_type": "markdown",
   "metadata": {},
   "source": [
    "# Saving the 3 datasets in *.npz form"
   ]
  },
  {
   "cell_type": "code",
   "execution_count": 30,
   "metadata": {},
   "outputs": [],
   "source": [
    "np.savez('Spotify_train', inputs = X_train, targets = y_train)\n",
    "np.savez('Spotify_validation', inputs = X_val, targets = y_val)\n",
    "np.savez('Spotify_test', inputs = X_test, targets = y_test)"
   ]
  },
  {
   "cell_type": "markdown",
   "metadata": {},
   "source": [
    "# Creating a Deep Learning Algorithm"
   ]
  },
  {
   "cell_type": "code",
   "execution_count": 31,
   "metadata": {},
   "outputs": [],
   "source": [
    "# Creating temporary variables to built a model \n",
    "\n",
    "npz = np.load('Spotify_train.npz')\n",
    "\n",
    "# For train set\n",
    "X_train, y_train = npz['inputs'].astype(np.float), npz['targets'].astype(np.int)\n",
    "\n",
    "\n",
    "npz = np.load('Spotify_validation.npz')\n",
    "\n",
    "# For validation set\n",
    "X_val, y_val = npz['inputs'].astype(np.float), npz['targets'].astype(np.int)\n",
    "\n",
    "\n",
    "npz = np.load('Spotify_test.npz')\n",
    "\n",
    "# For test set\n",
    "X_test, y_test = npz['inputs'].astype(np.float), npz['targets'].astype(np.int)"
   ]
  },
  {
   "cell_type": "code",
   "execution_count": 32,
   "metadata": {},
   "outputs": [],
   "source": [
    "import tensorflow as tf\n",
    "# Assigning the input and output sizes\n",
    "input_size = 15 \n",
    "output_size = 2 \n",
    "\n",
    "hidden_layer_size = 50 # no.of neurons\n",
    "\n",
    "model = tf.keras.Sequential([tf.keras.layers.Dense(hidden_layer_size, activation='relu'), # 1st hidden layer\n",
    "                             tf.keras.layers.Dense(hidden_layer_size, activation='relu'), # 2nd hidden layer\n",
    "                             tf.keras.layers.Dense(hidden_layer_size, activation='relu'), # 3rd hidden layer\n",
    "                             tf.keras.layers.Dense(output_size, activation='softmax')])   # output layer"
   ]
  },
  {
   "cell_type": "markdown",
   "metadata": {},
   "source": [
    "**Compiling the model**"
   ]
  },
  {
   "cell_type": "code",
   "execution_count": 33,
   "metadata": {},
   "outputs": [],
   "source": [
    "model.compile(optimizer=\"adam\", loss='sparse_categorical_crossentropy', metrics=['accuracy'])"
   ]
  },
  {
   "cell_type": "markdown",
   "metadata": {},
   "source": [
    "**Training the model**"
   ]
  },
  {
   "cell_type": "code",
   "execution_count": 34,
   "metadata": {},
   "outputs": [],
   "source": [
    "# Assigning values for the batch size and number of training epochs\n",
    "batch_size = 400\n",
    "epochs = 20 "
   ]
  },
  {
   "cell_type": "markdown",
   "metadata": {},
   "source": [
    "**The maximum no.of epochs increases the accuracy of the model and decreases the loss**"
   ]
  },
  {
   "cell_type": "markdown",
   "metadata": {},
   "source": [
    "**Fitting the model**"
   ]
  },
  {
   "cell_type": "code",
   "execution_count": 35,
   "metadata": {},
   "outputs": [
    {
     "name": "stdout",
     "output_type": "stream",
     "text": [
      "Train on 32884 samples, validate on 4110 samples\n",
      "Epoch 1/20\n",
      "32884/32884 - 3s - loss: 0.5427 - accuracy: 0.7148 - val_loss: 0.5096 - val_accuracy: 0.7421\n",
      "Epoch 2/20\n",
      "32884/32884 - 1s - loss: 0.4936 - accuracy: 0.7576 - val_loss: 0.4935 - val_accuracy: 0.7567\n",
      "Epoch 3/20\n",
      "32884/32884 - 1s - loss: 0.4837 - accuracy: 0.7658 - val_loss: 0.4856 - val_accuracy: 0.7647\n",
      "Epoch 4/20\n",
      "32884/32884 - 1s - loss: 0.4771 - accuracy: 0.7694 - val_loss: 0.4790 - val_accuracy: 0.7655\n",
      "Epoch 5/20\n",
      "32884/32884 - 1s - loss: 0.4716 - accuracy: 0.7728 - val_loss: 0.4770 - val_accuracy: 0.7720\n",
      "Epoch 6/20\n",
      "32884/32884 - 1s - loss: 0.4691 - accuracy: 0.7742 - val_loss: 0.4727 - val_accuracy: 0.7749\n",
      "Epoch 7/20\n",
      "32884/32884 - 1s - loss: 0.4644 - accuracy: 0.7783 - val_loss: 0.4670 - val_accuracy: 0.7822\n",
      "Epoch 8/20\n",
      "32884/32884 - 1s - loss: 0.4613 - accuracy: 0.7802 - val_loss: 0.4650 - val_accuracy: 0.7800\n",
      "Epoch 9/20\n",
      "32884/32884 - 1s - loss: 0.4591 - accuracy: 0.7815 - val_loss: 0.4602 - val_accuracy: 0.7808\n",
      "Epoch 10/20\n",
      "32884/32884 - 1s - loss: 0.4571 - accuracy: 0.7834 - val_loss: 0.4580 - val_accuracy: 0.7832\n",
      "Epoch 11/20\n",
      "32884/32884 - 1s - loss: 0.4538 - accuracy: 0.7850 - val_loss: 0.4566 - val_accuracy: 0.7842\n",
      "Epoch 12/20\n",
      "32884/32884 - 1s - loss: 0.4528 - accuracy: 0.7848 - val_loss: 0.4547 - val_accuracy: 0.7844\n",
      "Epoch 13/20\n",
      "32884/32884 - 1s - loss: 0.4502 - accuracy: 0.7862 - val_loss: 0.4541 - val_accuracy: 0.7847\n",
      "Epoch 14/20\n",
      "32884/32884 - 1s - loss: 0.4485 - accuracy: 0.7887 - val_loss: 0.4529 - val_accuracy: 0.7871\n",
      "Epoch 15/20\n",
      "32884/32884 - 1s - loss: 0.4474 - accuracy: 0.7878 - val_loss: 0.4489 - val_accuracy: 0.7927\n",
      "Epoch 16/20\n",
      "32884/32884 - 1s - loss: 0.4460 - accuracy: 0.7884 - val_loss: 0.4477 - val_accuracy: 0.7891\n",
      "Epoch 17/20\n",
      "32884/32884 - 1s - loss: 0.4447 - accuracy: 0.7883 - val_loss: 0.4451 - val_accuracy: 0.7900\n",
      "Epoch 18/20\n",
      "32884/32884 - 1s - loss: 0.4438 - accuracy: 0.7900 - val_loss: 0.4460 - val_accuracy: 0.7849\n",
      "Epoch 19/20\n",
      "32884/32884 - 1s - loss: 0.4430 - accuracy: 0.7894 - val_loss: 0.4433 - val_accuracy: 0.7949\n",
      "Epoch 20/20\n",
      "32884/32884 - 1s - loss: 0.4403 - accuracy: 0.7920 - val_loss: 0.4412 - val_accuracy: 0.7951\n"
     ]
    }
   ],
   "source": [
    "model_fit = model.fit(X_train, y_train, validation_data=(X_val, y_val), batch_size = batch_size, epochs = epochs, verbose = 2)"
   ]
  },
  {
   "cell_type": "markdown",
   "metadata": {},
   "source": [
    "# Visualize Neural Network Loss History"
   ]
  },
  {
   "cell_type": "code",
   "execution_count": 36,
   "metadata": {},
   "outputs": [],
   "source": [
    "# Get training, validation and loss histories\n",
    "train_loss = model_fit.history['loss']\n",
    "validation_loss = model_fit.history['val_loss']"
   ]
  },
  {
   "cell_type": "code",
   "execution_count": 37,
   "metadata": {},
   "outputs": [
    {
     "data": {
      "text/plain": [
       "range(1, 21)"
      ]
     },
     "execution_count": 37,
     "metadata": {},
     "output_type": "execute_result"
    }
   ],
   "source": [
    "# Create count of the number of epochs\n",
    "number_epoch = range(1, len(train_loss) + 1)\n",
    "number_epoch"
   ]
  },
  {
   "cell_type": "code",
   "execution_count": 38,
   "metadata": {},
   "outputs": [
    {
     "data": {
      "image/png": "[encoded data removed]",
      "text/plain": [
       "<Figure size 900x600 with 1 Axes>"
      ]
     },
     "metadata": {
      "needs_background": "light"
     },
     "output_type": "display_data"
    }
   ],
   "source": [
    "# Visualize loss history\n",
    "mpl.rcParams['figure.dpi'] = 150\n",
    "plt.plot(number_epoch, train_loss, 'go-')\n",
    "plt.plot(number_epoch, validation_loss, 'ro-')\n",
    "\n",
    "plt.legend(['Train-Loss', 'Validation-Loss'])\n",
    "plt.xlabel('Epochs')\n",
    "plt.ylabel('Loss')\n",
    "plt.grid()\n",
    "plt.show()"
   ]
  },
  {
   "cell_type": "code",
   "execution_count": 39,
   "metadata": {},
   "outputs": [
    {
     "data": {
      "text/plain": [
       "[0.5426556991444729,\n",
       " 0.49357581908591774,\n",
       " 0.48369248462787673,\n",
       " 0.4770746795514279,\n",
       " 0.47156163104301735,\n",
       " 0.46909775389268904,\n",
       " 0.4643820379681141,\n",
       " 0.46126537136810564,\n",
       " 0.4591466022942887,\n",
       " 0.4571337015680147,\n",
       " 0.45376147814308,\n",
       " 0.4527852230300551,\n",
       " 0.45019959205331744,\n",
       " 0.44848706024854,\n",
       " 0.4473770113847447,\n",
       " 0.4459720518906293,\n",
       " 0.4446539737899552,\n",
       " 0.4437572213582873,\n",
       " 0.442970680698921,\n",
       " 0.4403066543741914]"
      ]
     },
     "execution_count": 39,
     "metadata": {},
     "output_type": "execute_result"
    }
   ],
   "source": [
    "test_loss = model_fit.history['loss']\n",
    "test_loss"
   ]
  },
  {
   "cell_type": "code",
   "execution_count": 40,
   "metadata": {},
   "outputs": [
    {
     "data": {
      "image/png": "[encoded data removed]",
      "text/plain": [
       "<Figure size 900x600 with 1 Axes>"
      ]
     },
     "metadata": {
      "needs_background": "light"
     },
     "output_type": "display_data"
    }
   ],
   "source": [
    "# Visualize loss history\n",
    "mpl.rcParams['figure.dpi'] = 150\n",
    "plt.plot(number_epoch, test_loss, 'bo-')\n",
    "\n",
    "plt.legend(['Test-Loss'])\n",
    "plt.xlabel('Epochs')\n",
    "plt.ylabel('Loss')\n",
    "plt.grid()\n",
    "plt.show()"
   ]
  },
  {
   "cell_type": "markdown",
   "metadata": {},
   "source": [
    "**Evaluating the test model**"
   ]
  },
  {
   "cell_type": "code",
   "execution_count": 41,
   "metadata": {},
   "outputs": [
    {
     "name": "stdout",
     "output_type": "stream",
     "text": [
      "4110/4110 [==============================] - 0s 112us/sample - loss: 0.4412 - accuracy: 0.7951\n"
     ]
    },
    {
     "data": {
      "text/plain": [
       "[0.441158387492753, 0.7951338]"
      ]
     },
     "execution_count": 41,
     "metadata": {},
     "output_type": "execute_result"
    }
   ],
   "source": [
    "model.evaluate(X_test, y_test)"
   ]
  },
  {
   "cell_type": "code",
   "execution_count": 42,
   "metadata": {},
   "outputs": [
    {
     "name": "stdout",
     "output_type": "stream",
     "text": [
      "4110/4110 [==============================] - 1s 131us/sample - loss: 0.4412 - accuracy: 0.7951\n",
      "\n",
      "Test loss: 0.44. Test accuracy: 79.51%\n"
     ]
    }
   ],
   "source": [
    "test_loss, test_accuracy = model.evaluate(X_test, y_test)\n",
    "print('\\nTest loss: {0:.2f}. Test accuracy: {1:.2f}%'.format(test_loss, test_accuracy*100))"
   ]
  },
  {
   "cell_type": "markdown",
   "metadata": {},
   "source": [
    "**Evaluating the train model**"
   ]
  },
  {
   "cell_type": "code",
   "execution_count": 43,
   "metadata": {},
   "outputs": [
    {
     "name": "stdout",
     "output_type": "stream",
     "text": [
      "32884/32884 [==============================] - 4s 125us/sample - loss: 0.4361 - accuracy: 0.7949\n"
     ]
    },
    {
     "data": {
      "text/plain": [
       "[0.4361244602920278, 0.7949459]"
      ]
     },
     "execution_count": 43,
     "metadata": {},
     "output_type": "execute_result"
    }
   ],
   "source": [
    "model.evaluate(X_train, y_train)"
   ]
  },
  {
   "cell_type": "code",
   "execution_count": 44,
   "metadata": {},
   "outputs": [
    {
     "name": "stdout",
     "output_type": "stream",
     "text": [
      "32884/32884 [==============================] - 4s 131us/sample - loss: 0.4361 - accuracy: 0.7949\n",
      "\n",
      "Train loss: 0.44. Train accuracy: 79.49%\n"
     ]
    }
   ],
   "source": [
    "train_loss, train_accuracy = model.evaluate(X_train, y_train)\n",
    "print('\\nTrain loss: {0:.2f}. Train accuracy: {1:.2f}%'.format(train_loss, train_accuracy*100))"
   ]
  },
  {
   "cell_type": "markdown",
   "metadata": {},
   "source": [
    "**Evaluating the Validation model**"
   ]
  },
  {
   "cell_type": "code",
   "execution_count": 45,
   "metadata": {},
   "outputs": [
    {
     "name": "stdout",
     "output_type": "stream",
     "text": [
      "4110/4110 [==============================] - 1s 162us/sample - loss: 0.4412 - accuracy: 0.7951\n",
      "\n",
      "Validation loss: 0.44. Validation Accuracy: 79.51%\n"
     ]
    }
   ],
   "source": [
    "val_loss, val_accuracy = model.evaluate(X_val, y_val)\n",
    "print('\\nValidation loss: {0:.2f}. Validation Accuracy: {1:.2f}%'.format(val_loss, val_accuracy*100))"
   ]
  },
  {
   "cell_type": "markdown",
   "metadata": {},
   "source": [
    "**From above evaluation of train, validation and test sets, we can observe that all set have accuracy of 79 %  which is considered to be good model performance**"
   ]
  }
 ],
 "metadata": {
  "kernelspec": {
   "display_name": "Python 3",
   "language": "python",
   "name": "python3"
  },
  "language_info": {
   "codemirror_mode": {
    "name": "ipython",
    "version": 3
   },
   "file_extension": ".py",
   "mimetype": "text/x-python",
   "name": "python",
   "nbconvert_exporter": "python",
   "pygments_lexer": "ipython3",
   "version": "3.7.4"
  }
 },
 "nbformat": 4,
 "nbformat_minor": 2
}
